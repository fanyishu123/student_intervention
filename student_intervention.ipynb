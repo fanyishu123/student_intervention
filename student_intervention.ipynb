{
 "cells": [
  {
   "cell_type": "markdown",
   "metadata": {},
   "source": [
    "# Project 2: Supervised Learning\n",
    "### Building a Student Intervention System"
   ]
  },
  {
   "cell_type": "markdown",
   "metadata": {},
   "source": [
    "## 1. Classification vs Regression\n",
    "\n",
    "Your goal is to identify students who might need early intervention - which type of supervised machine learning problem is this, classification or regression? Why?\n",
    "\n",
    "Identifying students as needing intervention or not is a boolean decision with two discrete outputs, not computing a value along a range of coninuous values."
   ]
  },
  {
   "cell_type": "markdown",
   "metadata": {},
   "source": [
    "## 2. Exploring the Data\n",
    "\n",
    "Let's go ahead and read in the student dataset first.\n",
    "\n",
    "_To execute a code cell, click inside it and press **Shift+Enter**._"
   ]
  },
  {
   "cell_type": "code",
   "execution_count": 1,
   "metadata": {
    "collapsed": false
   },
   "outputs": [],
   "source": [
    "# Import libraries\n",
    "import numpy as np\n",
    "import pandas as pd"
   ]
  },
  {
   "cell_type": "code",
   "execution_count": 2,
   "metadata": {
    "collapsed": false
   },
   "outputs": [
    {
     "name": "stdout",
     "output_type": "stream",
     "text": [
      "Student data read successfully!\n"
     ]
    }
   ],
   "source": [
    "# Read student data\n",
    "student_data = pd.read_csv(\"student-data.csv\")\n",
    "print(\"Student data read successfully!\")\n",
    "# Note: The last column 'passed' is the target/label, all other are feature columns"
   ]
  },
  {
   "cell_type": "markdown",
   "metadata": {},
   "source": [
    "Now, can you find out the following facts about the dataset?\n",
    "- Total number of students\n",
    "- Number of students who passed\n",
    "- Number of students who failed\n",
    "- Graduation rate of the class (%)\n",
    "- Number of features\n",
    "\n",
    "_Use the code block below to compute these values. Instructions/steps are marked using **TODO**s._"
   ]
  },
  {
   "cell_type": "code",
   "execution_count": 3,
   "metadata": {
    "collapsed": false
   },
   "outputs": [
    {
     "name": "stdout",
     "output_type": "stream",
     "text": [
      "Total number of students: 395\n",
      "Number of students who passed: 265\n",
      "Number of students who failed: 130\n",
      "Number of features: 30\n",
      "Graduation rate of the class: 67.09%\n"
     ]
    }
   ],
   "source": [
    "n_students = student_data.shape[0]\n",
    "n_features = student_data.shape[1] - 1 #subtract the label column\n",
    "n_passed = student_data.passed.value_counts()['yes']\n",
    "n_failed = student_data.passed.value_counts()['no']\n",
    "grad_rate = 100.*n_passed/n_students\n",
    "print (\"Total number of students: {}\".format(n_students))\n",
    "print (\"Number of students who passed: {}\".format(n_passed))\n",
    "print (\"Number of students who failed: {}\".format(n_failed))\n",
    "print (\"Number of features: {}\".format(n_features))\n",
    "print (\"Graduation rate of the class: {:.2f}%\".format(grad_rate))"
   ]
  },
  {
   "cell_type": "markdown",
   "metadata": {},
   "source": [
    "## 3. Preparing the Data\n",
    "In this section, we will prepare the data for modeling, training and testing.\n",
    "\n",
    "### Identify feature and target columns\n",
    "It is often the case that the data you obtain contains non-numeric features. This can be a problem, as most machine learning algorithms expect numeric data to perform computations with.\n",
    "\n",
    "Let's first separate our data into feature and target columns, and see if any features are non-numeric.<br/>\n",
    "**Note**: For this dataset, the last column (`'passed'`) is the target or label we are trying to predict."
   ]
  },
  {
   "cell_type": "code",
   "execution_count": 4,
   "metadata": {
    "collapsed": false
   },
   "outputs": [
    {
     "name": "stdout",
     "output_type": "stream",
     "text": [
      "Feature column(s):-\n",
      "['school', 'sex', 'age', 'address', 'famsize', 'Pstatus', 'Medu', 'Fedu', 'Mjob', 'Fjob', 'reason', 'guardian', 'traveltime', 'studytime', 'failures', 'schoolsup', 'famsup', 'paid', 'activities', 'nursery', 'higher', 'internet', 'romantic', 'famrel', 'freetime', 'goout', 'Dalc', 'Walc', 'health', 'absences']\n",
      "Target column: passed\n",
      "\n",
      "Feature values:-\n",
      "  school sex  age address famsize Pstatus  Medu  Fedu     Mjob      Fjob  \\\n",
      "0     GP   F   18       U     GT3       A     4     4  at_home   teacher   \n",
      "1     GP   F   17       U     GT3       T     1     1  at_home     other   \n",
      "2     GP   F   15       U     LE3       T     1     1  at_home     other   \n",
      "3     GP   F   15       U     GT3       T     4     2   health  services   \n",
      "4     GP   F   16       U     GT3       T     3     3    other     other   \n",
      "\n",
      "    ...    higher internet  romantic  famrel  freetime goout Dalc Walc health  \\\n",
      "0   ...       yes       no        no       4         3     4    1    1      3   \n",
      "1   ...       yes      yes        no       5         3     3    1    1      3   \n",
      "2   ...       yes      yes        no       4         3     2    2    3      3   \n",
      "3   ...       yes      yes       yes       3         2     2    1    1      5   \n",
      "4   ...       yes       no        no       4         3     2    1    2      5   \n",
      "\n",
      "  absences  \n",
      "0        6  \n",
      "1        4  \n",
      "2       10  \n",
      "3        2  \n",
      "4        4  \n",
      "\n",
      "[5 rows x 30 columns]\n",
      "0     no\n",
      "1     no\n",
      "2    yes\n",
      "3    yes\n",
      "4    yes\n",
      "Name: passed, dtype: object\n"
     ]
    }
   ],
   "source": [
    "# Extract feature (X) and target (y) columns\n",
    "feature_cols = list(student_data.columns[:-1])  # all columns but last are features\n",
    "target_col = student_data.columns[-1]  # last column is the target/label\n",
    "print \"Feature column(s):-\\n{}\".format(feature_cols)\n",
    "print \"Target column: {}\".format(target_col)\n",
    "\n",
    "X_all = student_data[feature_cols]  # feature values for all students\n",
    "y_all = student_data[target_col]  # corresponding targets/labels\n",
    "print \"\\nFeature values:-\"\n",
    "print (X_all.head())  # print the first 5 rows\n",
    "print y_all.head()"
   ]
  },
  {
   "cell_type": "markdown",
   "metadata": {},
   "source": [
    "### Preprocess feature columns\n",
    "\n",
    "As you can see, there are several non-numeric columns that need to be converted! Many of them are simply `yes`/`no`, e.g. `internet`. These can be reasonably converted into `1`/`0` (binary) values.\n",
    "\n",
    "Other columns, like `Mjob` and `Fjob`, have more than two values, and are known as _categorical variables_. The recommended way to handle such a column is to create as many columns as possible values (e.g. `Fjob_teacher`, `Fjob_other`, `Fjob_services`, etc.), and assign a `1` to one of them and `0` to all others.\n",
    "\n",
    "These generated columns are sometimes called _dummy variables_, and we will use the [`pandas.get_dummies()`](http://pandas.pydata.org/pandas-docs/stable/generated/pandas.get_dummies.html?highlight=get_dummies#pandas.get_dummies) function to perform this transformation."
   ]
  },
  {
   "cell_type": "code",
   "execution_count": 5,
   "metadata": {
    "collapsed": false
   },
   "outputs": [
    {
     "name": "stdout",
     "output_type": "stream",
     "text": [
      "Processed feature columns (48):-\n",
      "['school_GP', 'school_MS', 'sex_F', 'sex_M', 'age', 'address_R', 'address_U', 'famsize_GT3', 'famsize_LE3', 'Pstatus_A', 'Pstatus_T', 'Medu', 'Fedu', 'Mjob_at_home', 'Mjob_health', 'Mjob_other', 'Mjob_services', 'Mjob_teacher', 'Fjob_at_home', 'Fjob_health', 'Fjob_other', 'Fjob_services', 'Fjob_teacher', 'reason_course', 'reason_home', 'reason_other', 'reason_reputation', 'guardian_father', 'guardian_mother', 'guardian_other', 'traveltime', 'studytime', 'failures', 'schoolsup', 'famsup', 'paid', 'activities', 'nursery', 'higher', 'internet', 'romantic', 'famrel', 'freetime', 'goout', 'Dalc', 'Walc', 'health', 'absences']\n"
     ]
    }
   ],
   "source": [
    "# Preprocess feature columns\n",
    "def preprocess_features(X):\n",
    "    outX = pd.DataFrame(index=X.index)  # output dataframe, initially empty\n",
    "\n",
    "    # Check each column\n",
    "    for col, col_data in X.iteritems():\n",
    "        # If data type is non-numeric, try to replace all yes/no values with 1/0\n",
    "        if col_data.dtype == object:\n",
    "            col_data = col_data.replace(['yes', 'no'], [1, 0])\n",
    "        # Note: This should change the data type for yes/no columns to int\n",
    "\n",
    "        # If still non-numeric, convert to one or more dummy variables\n",
    "        if col_data.dtype == object:\n",
    "            col_data = pd.get_dummies(col_data, prefix=col)  # e.g. 'school' => 'school_GP', 'school_MS'\n",
    "\n",
    "        outX = outX.join(col_data)  # collect column(s) in output dataframe\n",
    "\n",
    "    return outX\n",
    "\n",
    "X_all = preprocess_features(X_all)\n",
    "print (\"Processed feature columns ({}):-\\n{}\".format(len(X_all.columns), list(X_all.columns)))\n",
    "#y_all = y_all.replace(['yes', 'no'], [1, 0])\n",
    "#print y_all.shape\n",
    "#for i,f in enumerate(X_all.columns):\n",
    "#    print str(i) +\": \"+X_all.columns[i]"
   ]
  },
  {
   "cell_type": "markdown",
   "metadata": {},
   "source": [
    "### Split data into training and test sets\n",
    "\n",
    "So far, we have converted all _categorical_ features into numeric values. In this next step, we split the data (both features and corresponding labels) into training and test sets."
   ]
  },
  {
   "cell_type": "code",
   "execution_count": 64,
   "metadata": {
    "collapsed": false
   },
   "outputs": [
    {
     "name": "stdout",
     "output_type": "stream",
     "text": [
      "Training set: 300 samples\n",
      "Test set: 95 samples\n"
     ]
    }
   ],
   "source": [
    "# First, decide how many training vs test samples you want\n",
    "num_all = student_data.shape[0]  # same as len(student_data)\n",
    "num_train = 300  # about 75% of the data\n",
    "num_test = num_all - num_train\n",
    "\n",
    "if 0:\n",
    "    # Stratified Train/Test split\n",
    "    from sklearn.cross_validation import StratifiedShuffleSplit\n",
    "    cv = StratifiedShuffleSplit(y_all, n_iter=3, test_size=0.24, random_state=3)\n",
    "    #print len(cv)\n",
    "    #print cv\n",
    "\n",
    "    for train_index, test_index in cv:\n",
    "        print \"TRAIN:\", len(train_index), \"TEST:\", len(test_index)\n",
    "        # Initial models will use the last training set\n",
    "        X_train, X_test = X_all.iloc[train_index], X_all.iloc[test_index]\n",
    "        y_train, y_test = y_all.iloc[train_index], y_all.iloc[test_index] \n",
    "else:\n",
    "    cv = 3\n",
    "    # Then, select features (X) and corresponding labels (y) for the training and test sets\n",
    "    # Note: Shuffle the data or randomly select samples to avoid any bias due to ordering in the dataset\n",
    "    student_data.iloc[np.random.permutation(len(student_data))]\n",
    "    student_data.reset_index(drop=True)\n",
    "    X_train = X_all.iloc[:num_train, :]\n",
    "    y_train = y_all.iloc[:num_train]\n",
    "    X_test = X_all.iloc[num_train:, :]\n",
    "    y_test = y_all.iloc[num_train:]\n",
    "    print \"Training set: {} samples\".format(X_train.shape[0])\n",
    "    print \"Test set: {} samples\".format(X_test.shape[0])\n",
    "    # Note: If you need a validation set, extract it from within training data\n",
    "\n"
   ]
  },
  {
   "cell_type": "code",
   "execution_count": 21,
   "metadata": {
    "collapsed": false
   },
   "outputs": [],
   "source": [
    "#y_all"
   ]
  },
  {
   "cell_type": "markdown",
   "metadata": {},
   "source": [
    "## 4. Training and Evaluating Models\n",
    "Choose 3 supervised learning models that are available in scikit-learn, and appropriate for this problem. For each model:\n",
    "\n",
    "- What are the general applications of this model? What are its strengths and weaknesses?\n",
    "- Given what you know about the data so far, why did you choose this model to apply?\n",
    "- Fit this model to the training data, try to predict labels (for both training and test sets), and measure the F<sub>1</sub> score. Repeat this process with different training set sizes (100, 200, 300), keeping test set constant.\n",
    "\n",
    "Produce a table showing training time, prediction time, F<sub>1</sub> score on training set and F<sub>1</sub> score on test set, for each training set size.\n",
    "\n",
    "Note: You need to produce 3 such tables - one for each model."
   ]
  },
  {
   "cell_type": "markdown",
   "metadata": {},
   "source": [
    "### 4.1 K-Nearest Neighbors Classification\n",
    "K-Nearest neighbors (KNN) is an instance-based learning mechanism that instead of finding an equation to split data will classify a new point based on the points closest to it. A key assumption behind the model is that the entire set of data is not needed to classify a new point. A strength of KNN classification is that processing time for predictions is very fast because only a small number *K* datapoints are required to make a prediction. However, this means that all of the data have to be stored so that any prediction can be made."
   ]
  },
  {
   "cell_type": "code",
   "execution_count": 8,
   "metadata": {
    "collapsed": true
   },
   "outputs": [],
   "source": [
    "# Train a model\n",
    "import time\n",
    "\n",
    "def train_classifier(clf, X_train, y_train):\n",
    "    print \"Training {}...\".format(clf.__class__.__name__)\n",
    "    start = time.time()\n",
    "    clf.fit(X_train, y_train)\n",
    "    end = time.time()\n",
    "    print \"Done!\\nTraining time (secs): {:.3f}\".format(end - start)\n",
    "    return end-start"
   ]
  },
  {
   "cell_type": "code",
   "execution_count": 50,
   "metadata": {
    "collapsed": false
   },
   "outputs": [
    {
     "name": "stdout",
     "output_type": "stream",
     "text": [
      "Training KNeighborsClassifier...\n",
      "Done!\n",
      "Training time (secs): 0.002\n",
      "KNeighborsClassifier(algorithm='auto', leaf_size=30, metric='minkowski',\n",
      "           metric_params=None, n_jobs=1, n_neighbors=3, p=2,\n",
      "           weights='uniform')\n"
     ]
    }
   ],
   "source": [
    "# Choose a model, import it and instantiate an object\n",
    "from sklearn import neighbors\n",
    "n_neighbors = 3\n",
    "weights = 'uniform'\n",
    "#weights = 'distance'\n",
    "clf = neighbors.KNeighborsClassifier(weights=weights, n_neighbors=n_neighbors)#, weights=weights)\n",
    "\n",
    "# Fit model to training data\n",
    "train_classifier(clf, X_train, y_train)  # note: using entire training set here\n",
    "print clf  # you can inspect the learned model by printing it"
   ]
  },
  {
   "cell_type": "code",
   "execution_count": 51,
   "metadata": {
    "collapsed": true
   },
   "outputs": [],
   "source": [
    "# Predict on training set and compute F1 score\n",
    "from sklearn.metrics import f1_score\n",
    "\n",
    "def predict_labels(clf, features, target):\n",
    "    print \"Predicting labels using {}...\".format(clf.__class__.__name__)\n",
    "    start = time.time()\n",
    "    y_pred = clf.predict(features)\n",
    "    end = time.time()\n",
    "    proc_time = end - start\n",
    "    print \"Done!\\nPrediction time (secs): {:.4f}\".format(end - start)\n",
    "    return proc_time, f1_score(target.values, y_pred, pos_label='yes')"
   ]
  },
  {
   "cell_type": "code",
   "execution_count": 52,
   "metadata": {
    "collapsed": false
   },
   "outputs": [
    {
     "name": "stdout",
     "output_type": "stream",
     "text": [
      "Predicting labels using KNeighborsClassifier...\n",
      "Done!\n",
      "Prediction time (secs): 0.0073\n",
      "F1 score for training set: 0.895104895105\n",
      "Predicting labels using KNeighborsClassifier...\n",
      "Done!\n",
      "Prediction time (secs): 0.0029\n",
      "F1 score for test set: 0.736\n"
     ]
    }
   ],
   "source": [
    "train_f1_score = predict_labels(clf, X_train, y_train)\n",
    "print \"F1 score for training set: {}\".format(train_f1_score[1])\n",
    "# Predict on test data\n",
    "print \"F1 score for test set: {}\".format(predict_labels(clf, X_test, y_test)[1])"
   ]
  },
  {
   "cell_type": "code",
   "execution_count": 53,
   "metadata": {
    "collapsed": false
   },
   "outputs": [
    {
     "name": "stdout",
     "output_type": "stream",
     "text": [
      "------------------------------------------\n",
      "Training set size: 100\n",
      "Training KNeighborsClassifier...\n",
      "Done!\n",
      "Training time (secs): 0.001\n",
      "Predicting labels using KNeighborsClassifier...\n",
      "Done!\n",
      "Prediction time (secs): 0.0017\n",
      "F1 score for training set: 0.898734177215\n",
      "Predicting labels using KNeighborsClassifier...\n",
      "Done!\n",
      "Prediction time (secs): 0.0017\n",
      "F1 score for test set: 0.645669291339\n",
      "------------------------------------------\n",
      "Training set size: 200\n",
      "Training KNeighborsClassifier...\n",
      "Done!\n",
      "Training time (secs): 0.001\n",
      "Predicting labels using KNeighborsClassifier...\n",
      "Done!\n",
      "Prediction time (secs): 0.0041\n",
      "F1 score for training set: 0.881355932203\n",
      "Predicting labels using KNeighborsClassifier...\n",
      "Done!\n",
      "Prediction time (secs): 0.0022\n",
      "F1 score for test set: 0.732824427481\n",
      "------------------------------------------\n",
      "Training set size: 300\n",
      "Training KNeighborsClassifier...\n",
      "Done!\n",
      "Training time (secs): 0.001\n",
      "Predicting labels using KNeighborsClassifier...\n",
      "Done!\n",
      "Prediction time (secs): 0.0065\n",
      "F1 score for training set: 0.895104895105\n",
      "Predicting labels using KNeighborsClassifier...\n",
      "Done!\n",
      "Prediction time (secs): 0.0026\n",
      "F1 score for test set: 0.736\n",
      "\n",
      "| Training Size | Training Time (secs) | Prediction Time (secs) | F1 Train | F1 Test |\n",
      "| --- | --- | --- | --- | --- |\n",
      "| 100|0.0008 |0.0017 |0.8987 |0.6457 |\n",
      "| 200|0.0007 |0.0022 |0.8814 |0.7328 |\n",
      "| 300|0.001 |0.0026 |0.8951 |0.736 |\n"
     ]
    }
   ],
   "source": [
    "# Train and predict using different training set sizes\n",
    "def train_predict(clf, X_train, y_train, X_test, y_test):\n",
    "    print \"------------------------------------------\"\n",
    "    print \"Training set size: {}\".format(len(X_train))\n",
    "    t_train = train_classifier(clf, X_train, y_train)\n",
    "    \n",
    "    t_train_set, F1_train = predict_labels(clf, X_train, y_train)\n",
    "    print \"F1 score for training set: {}\".format(F1_train)\n",
    "    t_test, F1_test = predict_labels(clf, X_test, y_test)\n",
    "    print \"F1 score for test set: {}\".format(F1_test)\n",
    "    \n",
    "    return len(X_train), t_train, t_test, F1_train, F1_test\n",
    "    \n",
    "     \n",
    "\n",
    "# Run the helper function above for desired subsets of training data\n",
    "# Note: Keep the test set constant\n",
    "training_sizes = [100,200,300]\n",
    "results = []\n",
    "for cur_size in training_sizes:\n",
    "    X1_train, y1_train = X_train[:cur_size], y_train[:cur_size]\n",
    "    results.append(train_predict(clf, X1_train, y1_train, X_test, y_test))\n",
    "\n",
    "def print_table(results):\n",
    "    print\n",
    "    print \"| Training Size | Training Time (secs) | Prediction Time (secs) | F1 Train | F1 Test |\"\n",
    "    print \"| --- | --- | --- | --- | --- |\"\n",
    "    for r in results: \n",
    "        print \"|\",\n",
    "        print str(int(r[0])) +'|'+ str(round(r[1],4))+\" |\"+str(round(r[2],4))+\" |\"+str(round(r[3],4))+\" |\"+str(round(r[4],4))+\" |\"\n",
    "        #for i in r: print str(round(i,4))+\" |\",\n",
    "        #print\n",
    "        \n",
    "print_table(results)"
   ]
  },
  {
   "cell_type": "markdown",
   "metadata": {},
   "source": [
    "### 4.2 Decision Tree Classification"
   ]
  },
  {
   "cell_type": "code",
   "execution_count": 29,
   "metadata": {
    "collapsed": false
   },
   "outputs": [
    {
     "name": "stdout",
     "output_type": "stream",
     "text": [
      "Training DecisionTreeClassifier...\n",
      "Done!\n",
      "Training time (secs): 0.002\n",
      "DecisionTreeClassifier(class_weight=None, criterion='entropy', max_depth=None,\n",
      "            max_features=None, max_leaf_nodes=None, min_samples_leaf=8,\n",
      "            min_samples_split=2, min_weight_fraction_leaf=0.0,\n",
      "            presort=False, random_state=None, splitter='best')\n",
      "Predicting labels using DecisionTreeClassifier...\n",
      "Done!\n",
      "Prediction time (secs): 0.0003\n",
      "1\n",
      "\n",
      "Predicting labels using DecisionTreeClassifier...\n",
      "Done!\n",
      "Prediction time (secs): 0.0002\n",
      "F1 score for test set: 0.64347826087\n",
      "------------------------------------------\n",
      "Training set size: 100\n",
      "Training DecisionTreeClassifier...\n",
      "Done!\n",
      "Training time (secs): 0.001\n",
      "Predicting labels using DecisionTreeClassifier...\n",
      "Done!\n",
      "Prediction time (secs): 0.0002\n",
      "F1 score for training set: 0.844444444444\n",
      "Predicting labels using DecisionTreeClassifier...\n",
      "Done!\n",
      "Prediction time (secs): 0.0002\n",
      "F1 score for test set: 0.666666666667\n",
      "------------------------------------------\n",
      "Training set size: 200\n",
      "Training DecisionTreeClassifier...\n",
      "Done!\n",
      "Training time (secs): 0.001\n",
      "Predicting labels using DecisionTreeClassifier...\n",
      "Done!\n",
      "Prediction time (secs): 0.0002\n",
      "F1 score for training set: 0.878048780488\n",
      "Predicting labels using DecisionTreeClassifier...\n",
      "Done!\n",
      "Prediction time (secs): 0.0002\n",
      "F1 score for test set: 0.736\n",
      "------------------------------------------\n",
      "Training set size: 300\n",
      "Training DecisionTreeClassifier...\n",
      "Done!\n",
      "Training time (secs): 0.001\n",
      "Predicting labels using DecisionTreeClassifier...\n",
      "Done!\n",
      "Prediction time (secs): 0.0002\n",
      "F1 score for training set: 0.859296482412\n",
      "Predicting labels using DecisionTreeClassifier...\n",
      "Done!\n",
      "Prediction time (secs): 0.0002\n",
      "F1 score for test set: 0.637931034483\n",
      "\n",
      "| Training Size | Training Time (secs) | Prediction Time (secs) | F1 Train | F1 Test |\n",
      "| --- | --- | --- | --- | --- |\n",
      "| 100|0.0006 |0.0002 |0.8444 |0.6667 |\n",
      "| 200|0.0009 |0.0002 |0.878 |0.736 |\n",
      "| 300|0.0014 |0.0002 |0.8593 |0.6379 |\n"
     ]
    }
   ],
   "source": [
    "# Choose a model, import it and instantiate an object\n",
    "from sklearn.tree import DecisionTreeClassifier\n",
    "clf = DecisionTreeClassifier(criterion='entropy', min_samples_leaf=8)#, max_features=7)#, max_depth=4)\n",
    "    #max_leaf_nodes=8)\n",
    "# Fit model to training data\n",
    "train_classifier(clf, X_train, y_train)  # note: using entire training set here\n",
    "print clf  # you can inspect the learned model by printing it\n",
    "\n",
    "# Predict on training set and compute F1 score\n",
    "train_f1_score = predict_labels(clf, X_train, y_train)\n",
    "print \"F1 score for training set: {}\".format(train_f1_score)[1]\n",
    "\n",
    "# Predict on test data\n",
    "print\n",
    "print \"F1 score for test set: {}\".format(predict_labels(clf, X_test, y_test)[1])\n",
    "\n",
    "# Run the helper function above for desired subsets of training data\n",
    "# Note: Keep the test set constant\n",
    "training_sizes = [100,200,300]\n",
    "results = []\n",
    "for cur_size in training_sizes:\n",
    "    X1_train, y1_train = X_train[:cur_size], y_train[:cur_size]\n",
    "    results.append(train_predict(clf, X1_train, y1_train, X_test, y_test))\n",
    "\n",
    "print_table(results)"
   ]
  },
  {
   "cell_type": "markdown",
   "metadata": {},
   "source": [
    "### 4.3 Support Vector Machines\n",
    "computation increases rapidly with number of training vectors. Although may not be an issue when train size is constrained."
   ]
  },
  {
   "cell_type": "code",
   "execution_count": 30,
   "metadata": {
    "collapsed": false
   },
   "outputs": [
    {
     "name": "stdout",
     "output_type": "stream",
     "text": [
      "Training SVC...\n",
      "Done!\n",
      "Training time (secs): 0.007\n",
      "SVC(C=1.0, cache_size=200, class_weight=None, coef0=0.0,\n",
      "  decision_function_shape=None, degree=3, gamma='auto', kernel='rbf',\n",
      "  max_iter=-1, probability=False, random_state=None, shrinking=True,\n",
      "  tol=0.001, verbose=False)\n",
      "Predicting labels using SVC...\n",
      "Done!\n",
      "Prediction time (secs): 0.0049\n",
      "F1 score for training set: 0.854700854701\n",
      "\n",
      "Predicting labels using SVC...\n",
      "Done!\n",
      "Prediction time (secs): 0.0016\n",
      "F1 score for test set: 0.826666666667\n",
      "------------------------------------------\n",
      "Training set size: 100\n",
      "Training SVC...\n",
      "Done!\n",
      "Training time (secs): 0.001\n",
      "Predicting labels using SVC...\n",
      "Done!\n",
      "Prediction time (secs): 0.0008\n",
      "F1 score for training set: 0.819277108434\n",
      "Predicting labels using SVC...\n",
      "Done!\n",
      "Prediction time (secs): 0.0008\n",
      "F1 score for test set: 0.805031446541\n",
      "------------------------------------------\n",
      "Training set size: 200\n",
      "Training SVC...\n",
      "Done!\n",
      "Training time (secs): 0.003\n",
      "Predicting labels using SVC...\n",
      "Done!\n",
      "Prediction time (secs): 0.0022\n",
      "F1 score for training set: 0.860606060606\n",
      "Predicting labels using SVC...\n",
      "Done!\n",
      "Prediction time (secs): 0.0011\n",
      "F1 score for test set: 0.810126582278\n",
      "------------------------------------------\n",
      "Training set size: 300\n",
      "Training SVC...\n",
      "Done!\n",
      "Training time (secs): 0.006\n",
      "Predicting labels using SVC...\n",
      "Done!\n",
      "Prediction time (secs): 0.0049\n",
      "F1 score for training set: 0.854700854701\n",
      "Predicting labels using SVC...\n",
      "Done!\n",
      "Prediction time (secs): 0.0017\n",
      "F1 score for test set: 0.826666666667\n",
      "\n",
      "| Training Size | Training Time (secs) | Prediction Time (secs) | F1 Train | F1 Test |\n",
      "| --- | --- | --- | --- | --- |\n",
      "| 100|0.0012 |0.0008 |0.8193 |0.805 |\n",
      "| 200|0.0031 |0.0011 |0.8606 |0.8101 |\n",
      "| 300|0.0063 |0.0017 |0.8547 |0.8267 |\n"
     ]
    }
   ],
   "source": [
    "# Choose a model, import it and instantiate an object\n",
    "from sklearn.svm import SVC\n",
    "clf = SVC()\n",
    "\n",
    "# Fit model to training data\n",
    "train_classifier(clf, X_train, y_train)  # note: using entire training set here\n",
    "print clf  # you can inspect the learned model by printing it\n",
    "\n",
    "# Predict on training set and compute F1 score\n",
    "train_f1_score = predict_labels(clf, X_train, y_train)\n",
    "print \"F1 score for training set: {}\".format(train_f1_score[1])\n",
    "\n",
    "# Predict on test data\n",
    "print\n",
    "print \"F1 score for test set: {}\".format(predict_labels(clf, X_test, y_test)[1])\n",
    "\n",
    "# Run the helper function above for desired subsets of training data\n",
    "# Note: Keep the test set constant\n",
    "training_sizes = [100,200,300]\n",
    "results = []\n",
    "for cur_size in training_sizes:\n",
    "    X1_train, y1_train = X_train[:cur_size], y_train[:cur_size]\n",
    "    results.append(train_predict(clf, X1_train, y1_train, X_test, y_test))\n",
    "\n",
    "print_table(results)"
   ]
  },
  {
   "cell_type": "markdown",
   "metadata": {},
   "source": [
    "# Tuning Area"
   ]
  },
  {
   "cell_type": "markdown",
   "metadata": {},
   "source": [
    "## 5. Choosing the Best Model\n",
    "\n",
    "- Based on the experiments you performed earlier, in 1-2 paragraphs explain to the board of supervisors what single model you chose as the best model. Which model is generally the most appropriate based on the available data, limited resources, cost, and performance?\n",
    "- In 1-2 paragraphs explain to the board of supervisors in layman's terms how the final model chosen is supposed to work (for example if you chose a Decision Tree or Support Vector Machine, how does it make a prediction).\n",
    "- Fine-tune the model. Use Gridsearch with at least one important parameter tuned and with at least 3 settings. Use the entire training set for this.\n",
    "- What is the model's final F<sub>1</sub> score?"
   ]
  },
  {
   "cell_type": "markdown",
   "metadata": {},
   "source": [
    "Explain the best model. \n",
    "Resources\n",
    "Cost \n",
    "Performance\n",
    "\n",
    "Describe in layman's terms how it will work\n"
   ]
  },
  {
   "cell_type": "code",
   "execution_count": 65,
   "metadata": {
    "collapsed": false
   },
   "outputs": [
    {
     "name": "stdout",
     "output_type": "stream",
     "text": [
      "Training GridSearchCV...\n",
      "Done!\n",
      "Training time (secs): 0.281\n",
      "GridSearchCV(cv=3, error_score='raise',\n",
      "       estimator=DecisionTreeClassifier(class_weight=None, criterion='entropy', max_depth=None,\n",
      "            max_features=None, max_leaf_nodes=None, min_samples_leaf=1,\n",
      "            min_samples_split=2, min_weight_fraction_leaf=0.0,\n",
      "            presort=False, random_state=None, splitter='best'),\n",
      "       fit_params={}, iid=True, n_jobs=1,\n",
      "       param_grid={'max_depth': [2, 3, 4, 5, 6], 'min_samples_leaf': [5, 8, 10, 15]},\n",
      "       pre_dispatch='2*n_jobs', refit=True,\n",
      "       scoring=make_scorer(f1_score, pos_label=yes), verbose=0)\n",
      "Best estimator\n",
      "DecisionTreeClassifier(class_weight=None, criterion='entropy', max_depth=2,\n",
      "            max_features=None, max_leaf_nodes=None, min_samples_leaf=8,\n",
      "            min_samples_split=2, min_weight_fraction_leaf=0.0,\n",
      "            presort=False, random_state=None, splitter='best')\n",
      "{'max_depth': 2, 'min_samples_leaf': 8}\n",
      "0.815404081193\n",
      "age 0.119258214868\n",
      "failures 0.685619833278\n",
      "absences 0.195121951854\n",
      "Predicting labels using GridSearchCV...\n",
      "Done!\n",
      "Prediction time (secs): 0.0002\n",
      "F1 score for test set: 0.759689922481\n"
     ]
    }
   ],
   "source": [
    "# Tune the best model\n",
    "# Choose a model, import it and instantiate an object\n",
    "from sklearn.grid_search import GridSearchCV\n",
    "from sklearn.metrics import make_scorer, f1_score\n",
    "\n",
    "dt_clf = DecisionTreeClassifier(\n",
    "    criterion='entropy',\n",
    "    random_state=None\n",
    ")\n",
    "\n",
    "parameters = {'max_depth': [2,3,4,5,6],\n",
    "             'min_samples_leaf': [5,8,10,15]}\n",
    "    \n",
    "dt_score = make_scorer(f1_score, pos_label='yes')\n",
    "\n",
    "clf = GridSearchCV(\n",
    "    dt_clf, \n",
    "    parameters, \n",
    "    scoring=dt_score, \n",
    "    cv=cv)\n",
    "\n",
    "\n",
    "#clf.fit(X_train, y_train)\n",
    "train_classifier(clf, X_train, y_train)\n",
    "print clf\n",
    "print \"Best estimator\"\n",
    "print clf.best_estimator_\n",
    "print clf.best_params_\n",
    "print clf.best_score_\n",
    "\n",
    "for i,f in enumerate(clf.best_estimator_.feature_importances_):\n",
    "    if f > 0:\n",
    "        print X_all.columns[i], f\n",
    "\n",
    "print \"F1 score for test set: {}\".format(predict_labels(clf, X_test, y_test)[1])\n"
   ]
  },
  {
   "cell_type": "code",
   "execution_count": 68,
   "metadata": {
    "collapsed": false
   },
   "outputs": [
    {
     "name": "stdout",
     "output_type": "stream",
     "text": [
      "Training GridSearchCV...\n",
      "Done!\n",
      "Training time (secs): 0.137\n",
      "GridSearchCV(cv=3, error_score='raise',\n",
      "       estimator=SVC(C=1.0, cache_size=200, class_weight=None, coef0=0.0,\n",
      "  decision_function_shape=None, degree=3, gamma='auto', kernel='rbf',\n",
      "  max_iter=-1, probability=False, random_state=None, shrinking=True,\n",
      "  tol=0.001, verbose=False),\n",
      "       fit_params={}, iid=True, n_jobs=1,\n",
      "       param_grid={'C': [0.92, 0.94, 0.96, 0.98, 1.0]},\n",
      "       pre_dispatch='2*n_jobs', refit=True,\n",
      "       scoring=make_scorer(f1_score, pos_label=yes), verbose=0)\n",
      "Best estimator\n",
      "SVC(C=0.94, cache_size=200, class_weight=None, coef0=0.0,\n",
      "  decision_function_shape=None, degree=3, gamma='auto', kernel='rbf',\n",
      "  max_iter=-1, probability=False, random_state=None, shrinking=True,\n",
      "  tol=0.001, verbose=False)\n",
      "{'C': 0.94}\n",
      "0.813006124882\n",
      "Predicting labels using GridSearchCV...\n",
      "Done!\n",
      "Prediction time (secs): 0.0017\n",
      "F1 score for test set: 0.757142857143\n"
     ]
    }
   ],
   "source": [
    "# Tune the best model\n",
    "# Choose a model, import it and instantiate an object\n",
    "#from sklearn.grid_search import GridSearchCV\n",
    "from sklearn.svm import SVC\n",
    "from sklearn.metrics import make_scorer, f1_score\n",
    "\n",
    "clf = SVC()\n",
    "\n",
    "parameters = {'C': [.92,.94,.96,.98,1.]}\n",
    "    \n",
    "grid_scorer = make_scorer(f1_score, pos_label='yes')\n",
    "\n",
    "grid = GridSearchCV(\n",
    "    clf, \n",
    "    parameters, \n",
    "    scoring=grid_scorer, \n",
    "    cv=cv)\n",
    "\n",
    "\n",
    "#clf.fit(X_train, y_train)\n",
    "train_classifier(grid, X_train, y_train)\n",
    "print grid\n",
    "print \"Best estimator\"\n",
    "print grid.best_estimator_\n",
    "print grid.best_params_\n",
    "print grid.best_score_\n",
    "\n",
    "#for i,f in enumerate(grid.best_estimator_.feature_importances_):\n",
    "#    if f > 0:\n",
    "#        print X_all.columns[i], f\n",
    "\n",
    "print \"F1 score for test set: {}\".format(predict_labels(grid, X_test, y_test)[1])\n"
   ]
  },
  {
   "cell_type": "markdown",
   "metadata": {
    "collapsed": true
   },
   "source": [
    "SVC looked promising in the 100 sample training size condition. However, it doesn't perform well with tuning."
   ]
  }
 ],
 "metadata": {
  "kernelspec": {
   "display_name": "Python 2",
   "language": "python",
   "name": "python2"
  },
  "language_info": {
   "codemirror_mode": {
    "name": "ipython",
    "version": 2
   },
   "file_extension": ".py",
   "mimetype": "text/x-python",
   "name": "python",
   "nbconvert_exporter": "python",
   "pygments_lexer": "ipython2",
   "version": "2.7.11"
  }
 },
 "nbformat": 4,
 "nbformat_minor": 0
}
